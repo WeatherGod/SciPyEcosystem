{
 "cells": [
  {
   "cell_type": "code",
   "execution_count": null,
   "metadata": {
    "collapsed": true,
    "slideshow": {
     "slide_type": "skip"
    }
   },
   "outputs": [],
   "source": [
    "# Let printing work the same in Python 2 and 3\n",
    "from __future__ import print_function\n",
    "# Inline interactive figures\n",
    "%matplotlib nbagg"
   ]
  },
  {
   "cell_type": "code",
   "execution_count": null,
   "metadata": {
    "collapsed": true,
    "slideshow": {
     "slide_type": "skip"
    }
   },
   "outputs": [],
   "source": [
    "import numpy as np\n",
    "import matplotlib.pyplot as plt"
   ]
  },
  {
   "cell_type": "markdown",
   "metadata": {
    "slideshow": {
     "slide_type": "slide"
    }
   },
   "source": [
    "<center>\n",
    "<h1>Introduction to the SciPy Ecosystem</h1>\n",
    "\n",
    "<p class=\"gap05\"<p>\n",
    "<h3>Ben Root</h3>\n",
    "<h3>ben.v.root@gmail.com, [@Weather_God](http://github.com/WeatherGod)</h3>\n",
    "<h3>Atmospheric and Environmental Research, Inc.</h3>\n",
    "</center>"
   ]
  },
  {
   "cell_type": "markdown",
   "metadata": {
    "slideshow": {
     "slide_type": "slide"
    }
   },
   "source": [
    "# Who am I?\n",
    "- B.S. & M.S. in Meteorology from Penn State\n",
    " - Perl, C/C++, Matlab & a terrible language called GrADS\n",
    " - Linux and Vim\n",
    "\n",
    "- Spent 5 years in PhD hell at the University of Oklahoma\n",
    " - Had problems with Matlab\n",
    " - Tried Matplotlib & Python\n",
    " - Posted patches to the various mailing lists"
   ]
  },
  {
   "cell_type": "markdown",
   "metadata": {
    "slideshow": {
     "slide_type": "slide"
    }
   },
   "source": [
    "- Matplotlib Developer\n",
    " - John Hunter of Matplotlib said I annoyed him enough\n",
    " - Gave me commit rights!\n",
    " - Personally managed the v1.1.0 release of Matplotlib\n",
    " - Active on the matplotlib mailing list"
   ]
  },
  {
   "cell_type": "markdown",
   "metadata": {
    "slideshow": {
     "slide_type": "slide"
    }
   },
   "source": [
    "- The matplotlib mailing list is directly responsible for two things:\n",
    " 1. Me not finishing my dissertation\n",
    " 2. Current job\n",
    "   - [How matplotlib got me a job](http://matplotlib.1069221.n5.nabble.com/How-matplotlib-got-me-a-job-td27470.html)\n",
    "   - tl;dr: answer questions on mailing lists, you never know if the person you are helping out will be your next\n",
    "     co-worker!"
   ]
  },
  {
   "cell_type": "markdown",
   "metadata": {
    "slideshow": {
     "slide_type": "slide"
    }
   },
   "source": [
    "- Author\n",
    " - [The Anatomy of Matplotlib Tutorial](https://github.com/WeatherGod/AnatomyOfMatplotlib)\n",
    " - [Interactive Applications using Matplotlib](http://www.amazon.com/Interactive-Applications-using-Matplotlib-Benjamin/dp/1783988843/ref=tmm_pap_title_0)\n",
    "\n",
    "- SciPy Conference Co-chair\n",
    " - Financial Aid (2015)\n",
    " - Tutorials (2016)\n",
    "\n",
    "- Scientific Programmer at [Atmospheric and Environmental Research, Inc.](http://www.aer.com)"
   ]
  },
  {
   "cell_type": "markdown",
   "metadata": {
    "slideshow": {
     "slide_type": "slide"
    }
   },
   "source": [
    "# Who uses SciPy?\n",
    "- USGS\n",
    "- Los Alamos National Laboratory\n",
    "- Intel\n",
    "- Autodesk\n",
    "- Kitware\n",
    "- Microsoft Azure\n",
    "- Bloomberg\n",
    "- Amazon"
   ]
  },
  {
   "cell_type": "markdown",
   "metadata": {
    "slideshow": {
     "slide_type": "slide"
    }
   },
   "source": [
    "# NumPy <img src=\"numpy.svg\" style=\"float:right;height:200px\"/>\n",
    "- The numerical N-dimensional array class\n",
    "- Provides basic math & array methods\n",
    "- Lays the foundation for SciPy ecosystem\n",
    "- Completely different from Python's `array`\n",
    "  - `array` is geared towards having a compact form of lists (great for buffers)\n",
    "  - NumPy is for math"
   ]
  },
  {
   "cell_type": "code",
   "execution_count": null,
   "metadata": {
    "collapsed": false
   },
   "outputs": [],
   "source": [
    "import numpy as np\n",
    "np.arange(10)"
   ]
  },
  {
   "cell_type": "markdown",
   "metadata": {
    "slideshow": {
     "slide_type": "slide"
    }
   },
   "source": [
    "- Implemented mostly in C\n",
    "  - Just a C-pointer with lots of dressing!\n",
    "  - Interfaces with many existing numerical tools\n",
    "  - Fast"
   ]
  },
  {
   "cell_type": "code",
   "execution_count": null,
   "metadata": {
    "collapsed": false
   },
   "outputs": [],
   "source": [
    "a = list(range(10000))\n",
    "%timeit [v ** 2 for v in a]"
   ]
  },
  {
   "cell_type": "code",
   "execution_count": null,
   "metadata": {
    "collapsed": false
   },
   "outputs": [],
   "source": [
    "b = np.array(a)\n",
    "%timeit b ** 2"
   ]
  },
  {
   "cell_type": "markdown",
   "metadata": {
    "slideshow": {
     "slide_type": "slide"
    }
   },
   "source": [
    "## Array Indexing"
   ]
  },
  {
   "cell_type": "code",
   "execution_count": null,
   "metadata": {
    "collapsed": false
   },
   "outputs": [],
   "source": [
    "x = np.arange(100).reshape(5, 20)\n",
    "# Simple Indexing\n",
    "print(x[2])"
   ]
  },
  {
   "cell_type": "code",
   "execution_count": null,
   "metadata": {
    "collapsed": false,
    "slideshow": {
     "slide_type": "-"
    }
   },
   "outputs": [],
   "source": [
    "# Slicing\n",
    "print(x[2:5])"
   ]
  },
  {
   "cell_type": "code",
   "execution_count": null,
   "metadata": {
    "collapsed": false,
    "slideshow": {
     "slide_type": "slide"
    }
   },
   "outputs": [],
   "source": [
    "# Boolean Indexing (always a 1-D result)\n",
    "print(x[(x % 2) == 0])"
   ]
  },
  {
   "cell_type": "code",
   "execution_count": null,
   "metadata": {
    "collapsed": false
   },
   "outputs": [],
   "source": [
    "# Fancy Indexing -- Note the use of a list, not tuple!\n",
    "print(x[[1, 4, 2]])"
   ]
  },
  {
   "cell_type": "markdown",
   "metadata": {
    "slideshow": {
     "slide_type": "slide"
    }
   },
   "source": [
    "Learn more of the basics at [Introduction to NumPy](http://nbviewer.jupyter.org/github/WeatherGod/AnatomyOfMatplotlib/blob/master/AnatomyOfMatplotlib-Part0-Intro2NumPy.ipynb)"
   ]
  },
  {
   "cell_type": "markdown",
   "metadata": {
    "slideshow": {
     "slide_type": "slide"
    }
   },
   "source": [
    "# Matplotlib <img src=\"matplotlib.png\" style=\"float:right;height:250px\">\n",
    "  - Cross-platform, interactive-capable, scientific plotting tool\n",
    "  - In science, visualizing data is paramount\n",
    "  - Tables suck\n",
    "  - A picture is worth a thousand words"
   ]
  },
  {
   "cell_type": "markdown",
   "metadata": {
    "slideshow": {
     "slide_type": "slide"
    }
   },
   "source": [
    "  - An interactive plot in 3 lines"
   ]
  },
  {
   "cell_type": "code",
   "execution_count": null,
   "metadata": {
    "collapsed": false,
    "scrolled": true
   },
   "outputs": [],
   "source": [
    "import matplotlib.pyplot as plt\n",
    "plt.plot([1, 5, 3])\n",
    "plt.show()"
   ]
  },
  {
   "cell_type": "markdown",
   "metadata": {
    "slideshow": {
     "slide_type": "slide"
    }
   },
   "source": [
    "  - Not stupidly unhelpful or obtrusive.\n",
    "  - Have control over as much or as little detail as you want\n",
    "  - [Wide assortments of plot types](http://nbviewer.jupyter.org/github/WeatherGod/AnatomyOfMatplotlib/blob/master/AnatomyOfMatplotlib-Part2-Plotting_Methods_Overview.ipynb)\n",
    "  - Acts as an abstraction library to many GUI toolkits\n",
    "  - [Interactive Applications using Matplotlib](http://www.amazon.com/Interactive-Applications-using-Matplotlib-Benjamin/dp/1783988843/ref=tmm_pap_title_0)"
   ]
  },
  {
   "cell_type": "markdown",
   "metadata": {
    "slideshow": {
     "slide_type": "slide"
    }
   },
   "source": [
    "# SciPy <img src=\"scipy_med.png\" style='float:right;width:200px'>\n",
    " - Goes beyond basic math algorithms\n",
    " - Has general algorithms that apply to many domains\n",
    "   - `constants`\n",
    "   - `cluster`\n",
    "   - `fftpack`\n",
    "   - `integrate`"
   ]
  },
  {
   "cell_type": "markdown",
   "metadata": {
    "slideshow": {
     "slide_type": "slide"
    }
   },
   "source": [
    "   - `interpolate`"
   ]
  },
  {
   "cell_type": "code",
   "execution_count": null,
   "metadata": {
    "collapsed": false
   },
   "outputs": [],
   "source": [
    "from scipy import interpolate\n",
    "x, y = np.linspace(-5, 5, 25), np.linspace(-5, 5, 25)\n",
    "xx, yy = np.meshgrid(x, y)\n",
    "z = np.sin(xx**2+yy**2)\n",
    "f_rect = interpolate.RectBivariateSpline(x, y, z)\n",
    "\n",
    "xnew, ynew = np.linspace(-4.5, 4.5, 1000), np.linspace(-4.5, 4.5, 1000)\n",
    "znew = f_rect(xnew, ynew)"
   ]
  },
  {
   "cell_type": "code",
   "execution_count": null,
   "metadata": {
    "collapsed": false,
    "slideshow": {
     "slide_type": "fragment"
    }
   },
   "outputs": [],
   "source": [
    "fig, axes = plt.subplots(1, 2)\n",
    "axes[0].imshow(z, interpolation='none', vmin=-8, vmax=8)\n",
    "axes[1].imshow(znew, interpolation='none', vmin=-8, vmax=8)"
   ]
  },
  {
   "cell_type": "markdown",
   "metadata": {
    "slideshow": {
     "slide_type": "slide"
    }
   },
   "source": [
    "   - `io`\n",
    "     - Support for some scientific data formats\n",
    "     - This used to be essential before the days of pip/easy_install\n",
    "     - matlab, fortran, netcdf3, arff, IDL, wav\n",
    "   - `ndimage`\n",
    "     - Convolutions, filters, transforms\n",
    "     - `measurements`  (stats on labeled pixels)\n",
    "     - `morphology`  (erosion, dilation, etc.)\n",
    "     - For more advanced features, see [`scikit-image`](http://scikit-image.org)"
   ]
  },
  {
   "cell_type": "code",
   "execution_count": null,
   "metadata": {
    "collapsed": false,
    "slideshow": {
     "slide_type": "slide"
    }
   },
   "outputs": [],
   "source": [
    "# DO NOT SET HIGHER THAN 600!!\n",
    "stores = np.random.random((5, 2)) * 400\n",
    "# DO NOT SET HIGHER THAN 500000!!\n",
    "customers = np.random.random((5000, 2)) * 400\n",
    "threshold = 200"
   ]
  },
  {
   "cell_type": "code",
   "execution_count": null,
   "metadata": {
    "collapsed": false,
    "slideshow": {
     "slide_type": "fragment"
    }
   },
   "outputs": [],
   "source": [
    "#%%timeit\n",
    "d = np.hypot(stores[:, 0][:, np.newaxis] -\n",
    "             customers[:, 0][np.newaxis, :],\n",
    "             stores[:, 1][:, np.newaxis] -\n",
    "             customers[:, 1][np.newaxis, :])\n",
    "indexes = np.argmin(d, axis=0)\n",
    "d = d[indexes, np.arange(len(indexes))]\n",
    "d[d > threshold] = np.inf\n",
    "indexes[np.isinf(d)] = len(indexes)\n",
    "rev_indexes = [np.where(indexes == store_i)\n",
    "               for store_i in xrange(len(stores))]"
   ]
  },
  {
   "cell_type": "code",
   "execution_count": null,
   "metadata": {
    "collapsed": false,
    "slideshow": {
     "slide_type": "fragment"
    }
   },
   "outputs": [],
   "source": [
    "fig, ax = plt.subplots()\n",
    "for inds, in rev_indexes:\n",
    "    ax.plot(customers[inds, 0], customers[inds, 1], '.')\n",
    "ax.plot(stores[:, 0], stores[:, 1], '*y', markersize=25, mec='k', mew=3)"
   ]
  },
  {
   "cell_type": "markdown",
   "metadata": {
    "slideshow": {
     "slide_type": "slide"
    }
   },
   "source": [
    "   - `spatial`"
   ]
  },
  {
   "cell_type": "code",
   "execution_count": null,
   "metadata": {
    "collapsed": true,
    "slideshow": {
     "slide_type": "fragment"
    }
   },
   "outputs": [],
   "source": [
    "from scipy.spatial import cKDTree as KDTree"
   ]
  },
  {
   "cell_type": "code",
   "execution_count": null,
   "metadata": {
    "collapsed": false
   },
   "outputs": [],
   "source": [
    "#%%timeit\n",
    "store_tree = KDTree(stores)\n",
    "d, indexes = store_tree.query(customers,\n",
    "                              distance_upper_bound=threshold)\n",
    "rev_indexes = [np.where(indexes == store_i)\n",
    "               for store_i in xrange(len(stores))]    "
   ]
  },
  {
   "cell_type": "markdown",
   "metadata": {
    "slideshow": {
     "slide_type": "slide"
    }
   },
   "source": [
    "   - `stats`\n",
    "     - More statistics distributions than you can shake a stick at.\n",
    "     - Generate random data from a distribution\n",
    "     - Fit your data to a chosen distribution\n",
    "     - Check out [statsmodels](http://statsmodels.sourceforge.net/) package\n",
    "       for even more statistics fun."
   ]
  },
  {
   "cell_type": "markdown",
   "metadata": {
    "slideshow": {
     "slide_type": "slide"
    }
   },
   "source": [
    "   - `special`\n",
    "     - If you ever get a requirement to use a function with a French,\n",
    "       German, or Russian-sounding name, check in here.\n",
    "     - Also, when scientists talk of Lambda functions, it is usually\n",
    "       not the Python `lambda`. Find it here."
   ]
  },
  {
   "cell_type": "markdown",
   "metadata": {
    "slideshow": {
     "slide_type": "slide"
    }
   },
   "source": [
    "# IPython / Jupyter\n",
    "<img src=\"ipython.png\" style=\"float:right;height:160px\"><img src=\"jupyter.svg\" style=\"float:right;height:160px\">\n",
    "  - \"Weaponize your tab\"\n",
    "  - Copy-n-Paste multi-line code snippets into a REPL!\n",
    "  - Notebooks are for sharing code examples along with results\n",
    "  - Makes it easy to experiment\n",
    "  - Not intended to replace the debugger or be an IDE\n",
    "  - More like a sandbox"
   ]
  },
  {
   "cell_type": "code",
   "execution_count": null,
   "metadata": {
    "collapsed": true,
    "slideshow": {
     "slide_type": "fragment"
    }
   },
   "outputs": [],
   "source": []
  },
  {
   "cell_type": "markdown",
   "metadata": {
    "slideshow": {
     "slide_type": "slide"
    }
   },
   "source": [
    "# Anaconda/miniconda\n",
    "  - A \"python\" distribution from [Continuum Analytics](http://continuum.io)\n",
    "  - `distutils`/`setuptools` isn't good enough for the SciPy community\n",
    "  - This isn't to knock on these tools, but scientists have developed\n",
    "    very useful tools that are not packaged through `pip`, and may\n",
    "    have fragile binary dependency requirements."
   ]
  },
  {
   "cell_type": "markdown",
   "metadata": {
    "slideshow": {
     "slide_type": "slide"
    }
   },
   "source": [
    "  - So, why not use yum/apt-get/macports/homebrew?\n",
    "  - Scientists love experimenting, but *hate* when things break\n",
    "  - We also hate waiting for IT to install packages\n",
    "  - `conda` is user-space package management with environments\n",
    "  - Dynamic library linkages are at the user-space level\n",
    "  - IT can update systems without breaking things"
   ]
  },
  {
   "cell_type": "markdown",
   "metadata": {
    "slideshow": {
     "slide_type": "slide"
    }
   },
   "source": [
    "# The rest of the ecosystem\n",
    "## Visualization <img src='cartopy.png' style='float:right;height:200px'>\n",
    "  - [`bokeh`](http://bokeh.pydata.org/en/latest/)\n",
    "  - [`seaborn`](https://stanford.edu/~mwaskom/software/seaborn/)\n",
    "  - [`cartopy`](http://scitools.org.uk/cartopy/)\n",
    "  - [`ggplot`](http://ggplot.yhathq.com/)\n",
    "  - [`descartes`](https://bitbucket.org/sgillies/descartes/)\n",
    "  - [`mayavi`](http://code.enthought.com/projects/mayavi/)\n",
    "  - [`vispy`](http://vispy.org)\n",
    "  - [`glumpy`](https://glumpy.github.io/)"
   ]
  },
  {
   "cell_type": "markdown",
   "metadata": {
    "slideshow": {
     "slide_type": "slide"
    }
   },
   "source": [
    "## Do more with arrays <img src='pydata.png' style='float:right;height:200px'>\n",
    "  - [`pandas`](http://pandas.pydata.org/)\n",
    "  - [`xarray`](http://xarray.pydata.org/)\n",
    "  - [`pytables`](http://pytables.org/)\n",
    "  - [`ibis`](http://www.ibis-project.org/)\n",
    "  - [`odo`](http://odo.readthedocs.org/en/latest/)\n",
    "  - [`blaze`](http://blaze.readthedocs.org/en/latest/index.html)\n",
    "  - [`pint`](https://pint.readthedocs.org)"
   ]
  },
  {
   "cell_type": "code",
   "execution_count": null,
   "metadata": {
    "collapsed": false,
    "slideshow": {
     "slide_type": "slide"
    }
   },
   "outputs": [],
   "source": [
    "import pint\n",
    "ureg = pint.UnitRegistry()\n",
    "m = 10 * ureg.kg\n",
    "c = 3e8 * ureg.meters / ureg.second\n",
    "E = m*c**2\n",
    "print(E)"
   ]
  },
  {
   "cell_type": "markdown",
   "metadata": {
    "slideshow": {
     "slide_type": "slide"
    }
   },
   "source": [
    "## Python with rockets <img src='cython.png' style='float:right;height:200px'>\n",
    "  - [`cython`](http://cython.org/)\n",
    "  - [`numba`](http://numba.pydata.org/)\n",
    "  - [`numexpr`](https://github.com/pydata/numexpr)\n",
    "  - [`dask`](http://dask.pydata.org/en/latest/)\n",
    "  - [`theano`](http://deeplearning.net/software/theano/)"
   ]
  },
  {
   "cell_type": "code",
   "execution_count": null,
   "metadata": {
    "collapsed": true,
    "slideshow": {
     "slide_type": "slide"
    }
   },
   "outputs": [],
   "source": [
    "def pyprimes(kmax):\n",
    "    p = [0] * 1000\n",
    "    result = []\n",
    "    if kmax > 1000:\n",
    "        kmax = 1000\n",
    "    k = 0\n",
    "    n = 2\n",
    "    while k < kmax:\n",
    "        i = 0\n",
    "        while i < k and n % p[i] != 0:\n",
    "            i = i + 1\n",
    "        if i == k:\n",
    "            p[k] = n\n",
    "            k = k + 1\n",
    "            result.append(n)\n",
    "        n = n + 1\n",
    "    return result"
   ]
  },
  {
   "cell_type": "code",
   "execution_count": null,
   "metadata": {
    "collapsed": true
   },
   "outputs": [],
   "source": [
    "%load_ext cython"
   ]
  },
  {
   "cell_type": "code",
   "execution_count": null,
   "metadata": {
    "collapsed": true,
    "slideshow": {
     "slide_type": "fragment"
    }
   },
   "outputs": [],
   "source": [
    "%%cython\n",
    "def cprimes(int kmax):\n",
    "    cdef int n, k, i\n",
    "    cdef int p[1000]\n",
    "    result = []\n",
    "    if kmax > 1000:\n",
    "        kmax = 1000\n",
    "    k = 0\n",
    "    n = 2\n",
    "    while k < kmax:\n",
    "        i = 0\n",
    "        while i < k and n % p[i] != 0:\n",
    "            i = i + 1\n",
    "        if i == k:\n",
    "            p[k] = n\n",
    "            k = k + 1\n",
    "            result.append(n)\n",
    "        n = n + 1\n",
    "    return result"
   ]
  },
  {
   "cell_type": "code",
   "execution_count": null,
   "metadata": {
    "collapsed": false,
    "slideshow": {
     "slide_type": "fragment"
    }
   },
   "outputs": [],
   "source": [
    "%timeit pyprimes(500)\n",
    "%timeit cprimes(500)"
   ]
  },
  {
   "cell_type": "markdown",
   "metadata": {
    "slideshow": {
     "slide_type": "slide"
    }
   },
   "source": [
    "## Symbolic Math <img src='sympy_logo.png' style='float:right;height:200px'>\n",
    "  - [`sympy`](http://sympy.org/)\n",
    "  - [`sage`](http://www.sagemath.org/)\n",
    "  - [`patsy`](http://patsy.readthedocs.org/en/latest/index.html)"
   ]
  },
  {
   "cell_type": "markdown",
   "metadata": {
    "slideshow": {
     "slide_type": "slide"
    }
   },
   "source": [
    "## Geographic Processing\n",
    "  - GDAL/OGR  (`osgeo.ogr` & `osgeo.osr`)\n",
    "  - [`fiona`](http://toblerity.org/fiona/)\n",
    "  - [`geopandas`](http://geopandas.org/)\n",
    "  - [`shapely`](http://toblerity.org/shapely/)\n",
    "  - [`pyproj`](http://jswhit.github.io/pyproj/)"
   ]
  },
  {
   "cell_type": "code",
   "execution_count": null,
   "metadata": {
    "collapsed": false,
    "slideshow": {
     "slide_type": "fragment"
    }
   },
   "outputs": [],
   "source": [
    "from shapely.geometry import Point\n",
    "a = Point(1, 1).buffer(1.5)\n",
    "b = Point(2, 1).buffer(1.5)\n",
    "c = a.intersection(b)"
   ]
  },
  {
   "cell_type": "code",
   "execution_count": null,
   "metadata": {
    "collapsed": false,
    "slideshow": {
     "slide_type": "fragment"
    }
   },
   "outputs": [],
   "source": [
    "from descartes import PolygonPatch \n",
    "fig, ax = plt.subplots()\n",
    "ax.set_xlim(-1, 4); ax.set_ylim(-1, 3)\n",
    "for p, color in zip([a, b, c], 'rcy'):\n",
    "    ax.add_patch(PolygonPatch(p, fc=color))"
   ]
  },
  {
   "cell_type": "markdown",
   "metadata": {
    "slideshow": {
     "slide_type": "slide"
    }
   },
   "source": [
    "## Scientific Data Formats <img src='logo-pytables-small.png' style='float:right;height:100px'>\n",
    "  - [`netCDF4`](http://unidata.github.io/netcdf4-python/)\n",
    "  - [`pytables`](http://pytables.org)\n",
    "  - [`h5py`](http://www.h5py.org/)\n",
    "  - [`PyNIO`](https://www.pyngl.ucar.edu/Nio.shtml)\n",
    "  - GDAL (`osgeo.gdal`)\n",
    "  - [`rasterio`](https://github.com/mapbox/rasterio)"
   ]
  },
  {
   "cell_type": "markdown",
   "metadata": {
    "slideshow": {
     "slide_type": "slide"
    }
   },
   "source": [
    "## Domain Specialties <img src='scikit-image.png' style='float:right;height:100px'>\n",
    "  - [`scikit-image`](http://scikit-image.org)\n",
    "  - [`scikit-learn`](http://scikit-learn.org/stable/)\n",
    "  - [`astropy`](http://astropy.org)\n",
    "  - [`statsmodels`](http://statsmodels.sourceforge.net/)\n",
    "  - [`metpy`](https://github.com/MetPy/MetPy)\n",
    "  - [`pyart`](http://arm-doe.github.io/pyart/)"
   ]
  },
  {
   "cell_type": "markdown",
   "metadata": {
    "slideshow": {
     "slide_type": "slide"
    }
   },
   "source": [
    "# Final Thoughts\n",
    "  - This is but a taste of what is out there\n",
    "  - Biology is one domain not covered here\n",
    "  - Love the co-operative nature of the SciPy community\n",
    "  - Projects complement each other and \"stand on the shoulders of giants\"\n",
    "  - Teaching scientists how to program: [Software Carpentry](software-carpentry.org)"
   ]
  },
  {
   "cell_type": "code",
   "execution_count": null,
   "metadata": {
    "collapsed": true
   },
   "outputs": [],
   "source": []
  }
 ],
 "metadata": {
  "celltoolbar": "Slideshow",
  "kernelspec": {
   "display_name": "Python 2",
   "language": "python",
   "name": "python2"
  },
  "language_info": {
   "codemirror_mode": {
    "name": "ipython",
    "version": 2
   },
   "file_extension": ".py",
   "mimetype": "text/x-python",
   "name": "python",
   "nbconvert_exporter": "python",
   "pygments_lexer": "ipython2",
   "version": "2.7.11"
  },
  "livereveal": {
   "height": 768,
   "scroll": true,
   "start_slideshow_at": "selected",
   "theme": "simple",
   "width": 1024
  }
 },
 "nbformat": 4,
 "nbformat_minor": 0
}
