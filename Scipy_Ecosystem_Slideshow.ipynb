{
 "cells": [
  {
   "cell_type": "code",
   "execution_count": null,
   "metadata": {
    "collapsed": true,
    "slideshow": {
     "slide_type": "skip"
    }
   },
   "outputs": [],
   "source": [
    "# Let printing work the same in Python 2 and 3\n",
    "from __future__ import print_function"
   ]
  },
  {
   "cell_type": "markdown",
   "metadata": {
    "slideshow": {
     "slide_type": "slide"
    }
   },
   "source": [
    "<center>\n",
    "<h1>Introduction to the SciPy Ecosystem</h1>\n",
    "\n",
    "<p class=\"gap05\"<p>\n",
    "<h3>Ben Root</h3>\n",
    "<h3>ben.v.root@gmail.com, [@Weather_God](http://github.com/WeatherGod)</h3>\n",
    "<h3>Atmospheric and Environmental Research, Inc.</h3>\n",
    "</center>"
   ]
  },
  {
   "cell_type": "markdown",
   "metadata": {
    "slideshow": {
     "slide_type": "slide"
    }
   },
   "source": [
    "# Thank the sponsors\n",
    "* Klaviyo\n",
    "* Here"
   ]
  },
  {
   "cell_type": "markdown",
   "metadata": {
    "slideshow": {
     "slide_type": "slide"
    }
   },
   "source": [
    "# Who am I?\n",
    "- B.S. & M.S. in Meteorology from Penn State\n",
    " - Perl, C/C++, MatLab & a terrible language called GrADS\n",
    " - Linux and Vim\n",
    "\n",
    "- Spent 5 years in PhD hell at the University of Oklahoma\n",
    " - Had problems with MatLab\n",
    " - Tried Matplotlib & Python\n",
    " - Posted patches to the various mailing lists (pre-GitHub days)"
   ]
  },
  {
   "cell_type": "markdown",
   "metadata": {
    "slideshow": {
     "slide_type": "slide"
    }
   },
   "source": [
    "- Matplotlib Developer\n",
    " - John Hunter of Matplotlib said I annoyed him enough\n",
    " - Gave me commit rights!\n",
    " - Personally managed the v1.1.0 release of Matplotlib\n",
    " - Very active on the matplotlib mailing list"
   ]
  },
  {
   "cell_type": "markdown",
   "metadata": {
    "slideshow": {
     "slide_type": "slide"
    }
   },
   "source": [
    "- The matplotlib mailing list is directly responsible for two things:\n",
    " - Me not finishing my dissertation\n",
    " - Current job\n",
    "   - [How matplotlib got me a job](http://matplotlib.1069221.n5.nabble.com/How-matplotlib-got-me-a-job-td27470.html)\n",
    "   - tl;dr; answer questions on mailing lists, you never know if the person you are helping out will be your next\n",
    "     co-worker!"
   ]
  },
  {
   "cell_type": "markdown",
   "metadata": {
    "slideshow": {
     "slide_type": "slide"
    }
   },
   "source": [
    "- Author\n",
    " - [The Anatomy of Matplotlib Tutorial](https://github.com/WeatherGod/AnatomyOfMatplotlib)\n",
    " - [Interactive Applications using Matplotlib](http://www.amazon.com/Interactive-Applications-using-Matplotlib-Benjamin/dp/1783988843/ref=tmm_pap_title_0)\n",
    "\n",
    "- SciPy Conference Co-chair\n",
    " - Financial Aid (2015)\n",
    " - Tutorials (2016)\n",
    "\n",
    "- Scientific Programmer at [Atmospheric and Environmental Research, Inc.](http://www.aer.com)"
   ]
  },
  {
   "cell_type": "markdown",
   "metadata": {
    "slideshow": {
     "slide_type": "slide"
    }
   },
   "source": [
    "# What is AER?\n",
    "We are a research-oriented company focusing on environmental data\n",
    "of all kinds -- surface observations, radar, hydrological and satellite data.\n",
    "We also work closely with many companies around the world to study how\n",
    "the weather and climate impacts their business.\n",
    "\n",
    "We are primarially a Python shop, and our researchers use many other tools\n",
    "as well. We have a mix of Linux, Mac and Windows environments.\n",
    "\n",
    "We are looking to hire a few devops people with Linux experience!\n",
    "You don't need to know a thing about meteorology -- just have a willingness to learn Python!"
   ]
  },
  {
   "cell_type": "markdown",
   "metadata": {
    "slideshow": {
     "slide_type": "slide"
    }
   },
   "source": [
    "# Overview\n",
    "TODO: A good image"
   ]
  },
  {
   "cell_type": "markdown",
   "metadata": {
    "slideshow": {
     "slide_type": "slide"
    }
   },
   "source": [
    "# NumPy\n",
    "- The numerical multidimensional array object in Python\n",
    "- Provides basic mathematical and array methods\n",
    "- Lays the foundation for SciPy ecosystem\n",
    "- Completely different from Python's `array`\n",
    "  - `array` is geared towards having a compact form of lists (great for buffers)\n",
    "  - NumPy is for math"
   ]
  },
  {
   "cell_type": "code",
   "execution_count": null,
   "metadata": {
    "collapsed": false
   },
   "outputs": [],
   "source": [
    "import numpy as np\n",
    "np.arange(10)"
   ]
  },
  {
   "cell_type": "markdown",
   "metadata": {
    "slideshow": {
     "slide_type": "slide"
    }
   },
   "source": [
    "- Implemented mostly in C\n",
    "  - Just a C-pointer with lots of dressing!\n",
    "  - Interfaces well with many existing numerical tools"
   ]
  },
  {
   "cell_type": "code",
   "execution_count": null,
   "metadata": {
    "collapsed": false
   },
   "outputs": [],
   "source": [
    "a = list(range(10000))\n",
    "%timeit [v ** 2 for v in a]"
   ]
  },
  {
   "cell_type": "code",
   "execution_count": null,
   "metadata": {
    "collapsed": false
   },
   "outputs": [],
   "source": [
    "b = np.array(a)\n",
    "%timeit b ** 2"
   ]
  },
  {
   "cell_type": "markdown",
   "metadata": {
    "slideshow": {
     "slide_type": "slide"
    }
   },
   "source": [
    "## Array Indexing"
   ]
  },
  {
   "cell_type": "code",
   "execution_count": null,
   "metadata": {
    "collapsed": false
   },
   "outputs": [],
   "source": [
    "x = np.arange(100).reshape(5, 20)\n",
    "# Simple Indexing\n",
    "print(x[2])"
   ]
  },
  {
   "cell_type": "code",
   "execution_count": null,
   "metadata": {
    "collapsed": false,
    "slideshow": {
     "slide_type": "-"
    }
   },
   "outputs": [],
   "source": [
    "# Slicing\n",
    "print(x[2:5])"
   ]
  },
  {
   "cell_type": "code",
   "execution_count": null,
   "metadata": {
    "collapsed": false,
    "slideshow": {
     "slide_type": "slide"
    }
   },
   "outputs": [],
   "source": [
    "# Boolean Indexing (always a 1-D result)\n",
    "print(x[(x % 2) == 0])"
   ]
  },
  {
   "cell_type": "code",
   "execution_count": null,
   "metadata": {
    "collapsed": false
   },
   "outputs": [],
   "source": [
    "# Fancy Indexing -- Note the use of a list, not tuple!\n",
    "print(x[[1, 4, 2]])"
   ]
  },
  {
   "cell_type": "markdown",
   "metadata": {
    "slideshow": {
     "slide_type": "slide"
    }
   },
   "source": [
    "Learn more of the basics at [Introduction to NumPy](http://nbviewer.ipython.org/github/WeatherGod/AnatomyOfMatplotlib/blob/master/AnatomyOfMatplotlib-Part0-Intro2NumPy.ipynb)"
   ]
  },
  {
   "cell_type": "markdown",
   "metadata": {
    "slideshow": {
     "slide_type": "slide"
    }
   },
   "source": [
    "# Matplotlib"
   ]
  },
  {
   "cell_type": "code",
   "execution_count": null,
   "metadata": {
    "collapsed": true
   },
   "outputs": [],
   "source": []
  }
 ],
 "metadata": {
  "celltoolbar": "Slideshow",
  "kernelspec": {
   "display_name": "Python 2",
   "language": "python",
   "name": "python2"
  },
  "language_info": {
   "codemirror_mode": {
    "name": "ipython",
    "version": 2
   },
   "file_extension": ".py",
   "mimetype": "text/x-python",
   "name": "python",
   "nbconvert_exporter": "python",
   "pygments_lexer": "ipython2",
   "version": "2.7.11"
  }
 },
 "nbformat": 4,
 "nbformat_minor": 0
}
